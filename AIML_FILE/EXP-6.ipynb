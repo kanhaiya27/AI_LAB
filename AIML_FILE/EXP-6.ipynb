{
  "nbformat": 4,
  "nbformat_minor": 0,
  "metadata": {
    "colab": {
      "provenance": []
    },
    "kernelspec": {
      "name": "python3",
      "display_name": "Python 3"
    },
    "language_info": {
      "name": "python"
    }
  },
  "cells": [
    {
      "cell_type": "code",
      "execution_count": 2,
      "metadata": {
        "colab": {
          "base_uri": "https://localhost:8080/"
        },
        "id": "KCVY-zx7xflZ",
        "outputId": "c846c44c-34f1-49d9-97b9-f89ad620b6ab"
      },
      "outputs": [
        {
          "output_type": "stream",
          "name": "stdout",
          "text": [
            "                          game_name   genre rank_type  rank\n",
            "0                  Counter-Strike 2  Action     Sales     1\n",
            "1  Warhammer 40,000: Space Marine 2  Action     Sales     2\n",
            "2                    Cyberpunk 2077  Action     Sales     3\n",
            "3                Black Myth: Wukong  Action     Sales     4\n",
            "4                        ELDEN RING  Action     Sales     5\n",
            "Index(['game_name', 'genre', 'rank_type', 'rank'], dtype='object')\n",
            "Original DataFrame shape: (672, 4)\n",
            "DataFrame shape after Z-score outlier removal: (672, 4)\n",
            "DataFrame shape after IQR outlier removal: (672, 4)\n",
            "                          game_name   genre rank_type  rank\n",
            "0                  Counter-Strike 2  Action     Sales     1\n",
            "1  Warhammer 40,000: Space Marine 2  Action     Sales     2\n",
            "2                    Cyberpunk 2077  Action     Sales     3\n",
            "3                Black Myth: Wukong  Action     Sales     4\n",
            "4                        ELDEN RING  Action     Sales     5\n"
          ]
        },
          ],
      "source": [
        "import pandas as pd\n",
        "import numpy as np\n",
        "from scipy import stats\n",
        "\n",
        "df = pd.read_csv('games_ranking.csv')\n",
        "\n",
        "print(df.head())\n",
        "print(df.columns)\n",
        "\n",
        "for col in df.columns:\n",
        "    if df[col].dtype in ['int64', 'float64']:  # For numerical columns\n",
        "        # Impute missing values with mean\n",
        "        df[col].fillna(df[col].mean(), inplace=True)\n",
        "    elif df[col].dtype == 'object':  # For categorical columns\n",
        "        df[col].fillna('Unknown', inplace=True)\n",
        "\n",
        "# 1. Z-score method to detect and remove outliers for numerical columns\n",
        "numerical_cols = df.select_dtypes(include=['int64', 'float64']).columns\n",
        "z_scores = np.abs(stats.zscore(df[numerical_cols]))\n",
        "df_no_outliers_z = df[(z_scores < 3).all(axis=1)]  # Remove rows where z-scores are > 3\n",
        "\n",
        "# 2. IQR method to detect and remove outliers for numerical columns\n",
        "Q1 = df[numerical_cols].quantile(0.25)\n",
        "Q3 = df[numerical_cols].quantile(0.75)\n",
        "IQR = Q3 - Q1\n",
        "\n",
        "df_no_outliers_iqr = df[~((df[numerical_cols] < (Q1 - 1.5 * IQR)) | (df[numerical_cols] > (Q3 + 1.5 * IQR))).any(axis=1)]\n",
        "\n",
        "print(\"Original DataFrame shape:\", df.shape)\n",
        "print(\"DataFrame shape after Z-score outlier removal:\", df_no_outliers_z.shape)\n",
        "print(\"DataFrame shape after IQR outlier removal:\", df_no_outliers_iqr.shape)\n",
        "\n",
        "print(df_no_outliers_iqr.head())\n",
        "\n"
      ]
    }
  ]
}